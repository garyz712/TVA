{
  "nbformat": 4,
  "nbformat_minor": 0,
  "metadata": {
    "colab": {
      "provenance": []
    },
    "kernelspec": {
      "name": "python3",
      "display_name": "Python 3"
    },
    "language_info": {
      "name": "python"
    }
  },
  "cells": [
    {
      "cell_type": "code",
      "execution_count": 2,
      "metadata": {
        "colab": {
          "base_uri": "https://localhost:8080/"
        },
        "id": "UKdohkIiiNyU",
        "outputId": "0e46c709-c08b-403a-dc21-26a2c84f1eb2"
      },
      "outputs": [
        {
          "output_type": "stream",
          "name": "stdout",
          "text": [
            "Wrote 25088 lines to pos_embed.mem\n"
          ]
        }
      ],
      "source": [
        "import numpy as np\n",
        "\n",
        "def build_sincos_position_embedding(L, E, filename=\"pos_embed.mem\"):\n",
        "    \"\"\"\n",
        "    L: number of tokens (including [CLS], if any)\n",
        "    E: embedding dimension (must be even)\n",
        "    \"\"\"\n",
        "    assert E % 2 == 0, \"Embedding dim must be even\"\n",
        "\n",
        "    # 1. compute the raw float32 sin/cos table\n",
        "    pe = np.zeros((L, E), dtype=np.float32)\n",
        "    position = np.arange(L)[:, None]  # shape (L,1)\n",
        "    div_term = np.exp(np.arange(0, E, 2) * -(np.log(10000.0) / E))\n",
        "    pe[:, 0::2] = np.sin(position * div_term)\n",
        "    pe[:, 1::2] = np.cos(position * div_term)\n",
        "\n",
        "    # 2. quantize to signed Q1.15 (int16)\n",
        "    scale = (1 << 15) - 1\n",
        "    pe_q = np.round(pe * scale).astype(np.int16)  # values in [-32768..32767]\n",
        "\n",
        "    # 3. dump to hex memory file, one 16‑bit word per line\n",
        "    with open(filename, \"w\") as f:\n",
        "        for l in range(L):\n",
        "            for e in range(E):\n",
        "                q = int(pe_q[l, e])      # Python int in [-32768..32767]\n",
        "                val = q & 0xFFFF          # now an unsigned 16‑bit value\n",
        "                f.write(f\"{val:04x}\\n\")\n",
        "\n",
        "if __name__ == \"__main__\":\n",
        "    L = 196   # e.g. 14×14 patches (or 197 with [CLS])\n",
        "    E = 128\n",
        "    build_sincos_position_embedding(L, E, \"pos_embed.mem\")\n",
        "    print(f\"Wrote {L*E} lines to pos_embed.mem\")\n"
      ]
    },
    {
      "cell_type": "code",
      "source": [
        "import numpy as np\n",
        "\n",
        "def build_fp16_sincos_pos_embed(L, E, filename=\"pos_embed_fp16.mem\"):\n",
        "    \"\"\"\n",
        "    L: number of tokens (including [CLS], if any)\n",
        "    E: embedding dimension (must be even)\n",
        "    \"\"\"\n",
        "    assert E % 2 == 0, \"Embedding dim must be even\"\n",
        "    # 1) float32 sin/cos table\n",
        "    pe = np.zeros((L, E), dtype=np.float32)\n",
        "    pos = np.arange(L)[:, None]\n",
        "    div_term = np.exp(np.arange(0, E, 2) * -(np.log(10000.0) / E))\n",
        "    pe[:, 0::2] = np.sin(pos * div_term)\n",
        "    pe[:, 1::2] = np.cos(pos * div_term)\n",
        "\n",
        "    # 2) cast to float16\n",
        "    pe16 = pe.astype(np.float16)\n",
        "\n",
        "    # 3) view bits as uint16\n",
        "    bits = pe16.view(np.uint16)  # same shape (L,E), each 16 bits\n",
        "\n",
        "    # 4) dump as hex, one word per line\n",
        "    with open(filename, \"w\") as f:\n",
        "        for l in range(L):\n",
        "            for e in range(E):\n",
        "                val = int(bits[l, e])  # 0..0xFFFF\n",
        "                f.write(f\"{val:04x}\\n\")\n",
        "\n",
        "if __name__ == \"__main__\":\n",
        "    L = 196   # e.g. 14×14 patches (or 197 with [CLS])\n",
        "    E = 128\n",
        "    build_fp16_sincos_pos_embed(L, E, \"pos_embed_fp16.mem\")\n",
        "    print(f\"Wrote {L*E} lines to pos_embed_fp16.mem\")\n"
      ],
      "metadata": {
        "colab": {
          "base_uri": "https://localhost:8080/"
        },
        "id": "A8oKi98biOxO",
        "outputId": "30e201e1-0062-4d6b-a927-3d4b54ca8de6"
      },
      "execution_count": 3,
      "outputs": [
        {
          "output_type": "stream",
          "name": "stdout",
          "text": [
            "Wrote 25088 lines to pos_embed_fp16.mem\n"
          ]
        }
      ]
    },
    {
      "cell_type": "code",
      "source": [],
      "metadata": {
        "id": "CB75QF7ji5Js"
      },
      "execution_count": null,
      "outputs": []
    }
  ]
}